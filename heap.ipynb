{
 "cells": [
  {
   "cell_type": "code",
   "execution_count": 36,
   "metadata": {},
   "outputs": [],
   "source": [
    "class maxheap:\n",
    "    def __init__(self):\n",
    "        self.heap=[]\n",
    "    def getparent(self,i):\n",
    "        return (i-1)//2\n",
    "#     def hasparent(self,i):\n",
    "#         return self.heap[i-1]//2>=0\n",
    "    def getleftchild(self,i):\n",
    "        return self.heap[i*2+1]\n",
    "    def getrightchild(self,i):\n",
    "        return self.heap[i*2+2]\n",
    "    def swap(self,i,j):\n",
    "        self.heap[i],self.heap[j]=self.heap[j],self.heap[i]\n",
    "    def insertkey(self,key):\n",
    "        if len(self.heap)==0:\n",
    "            self.heap.append(key)\n",
    "        else:\n",
    "            self.heap.append(key)\n",
    "            self.heapify_up(len(self.heap)-1)\n",
    "    def heapify_up(self,i):\n",
    "        while self.heap[(i-1)//2] >=0 and self.heap[i]>self.heap[self.getparent(i)]:\n",
    "            self.swap(i, self.getparent(i))\n",
    "    def deleteroot(self):\n",
    "        if len(self.heap)==0:\n",
    "            return False\n",
    "        else:\n",
    "            last=len(self.heap)-1\n",
    "            self.swap(0,last)\n",
    "            root=self.heap.pop()\n",
    "            self.heapify_down(0)\n",
    "            return root \n",
    "    def heapify_down(self,i):\n",
    "        \n",
    "        while self.getleftchild(i) is not None:\n",
    "            max_child_index= self.get_max_child(i)\n",
    "            if max_child_index==-1:\n",
    "                break\n",
    "            if (self.heap[i]<self.heap[max_child_index]):\n",
    "                \n",
    "                self.swap(i, max_child_index) \n",
    "                i=max_child_index\n",
    "            else:\n",
    "                break\n",
    "    def get_max_child(self,i):\n",
    "        if (self.getleftchild(i)) >0:\n",
    "            leftchild= i*2+1\n",
    "            if (self.getrightchild(i)) >0:\n",
    "                rightchild=i*2+2\n",
    "                if leftchild>rightchild:\n",
    "                    return leftchild\n",
    "                else:\n",
    "                    return rightchild \n",
    "        else:\n",
    "            return -1\n",
    "    \n",
    "    \n",
    "    "
   ]
  },
  {
   "cell_type": "code",
   "execution_count": 29,
   "metadata": {},
   "outputs": [],
   "source": [
    "max=maxheap()"
   ]
  },
  {
   "cell_type": "code",
   "execution_count": 30,
   "metadata": {},
   "outputs": [],
   "source": [
    "max.insertkey(5)\n"
   ]
  },
  {
   "cell_type": "code",
   "execution_count": 33,
   "metadata": {},
   "outputs": [
    {
     "data": {
      "text/plain": [
       "[6, 5]"
      ]
     },
     "execution_count": 33,
     "metadata": {},
     "output_type": "execute_result"
    }
   ],
   "source": [
    "max.heap"
   ]
  },
  {
   "cell_type": "code",
   "execution_count": 32,
   "metadata": {},
   "outputs": [],
   "source": [
    "max.insertkey(6)"
   ]
  },
  {
   "cell_type": "code",
   "execution_count": 21,
   "metadata": {},
   "outputs": [
    {
     "data": {
      "text/plain": [
       "5"
      ]
     },
     "execution_count": 21,
     "metadata": {},
     "output_type": "execute_result"
    }
   ],
   "source": [
    "max.heap[(1-1)//2]\n",
    "# len(max.heap)-1"
   ]
  },
  {
   "cell_type": "code",
   "execution_count": 40,
   "metadata": {},
   "outputs": [
    {
     "data": {
      "text/plain": [
       "6"
      ]
     },
     "execution_count": 40,
     "metadata": {},
     "output_type": "execute_result"
    }
   ],
   "source": [
    "max.heap[max.getparent(1)]"
   ]
  },
  {
   "cell_type": "code",
   "execution_count": null,
   "metadata": {},
   "outputs": [],
   "source": []
  }
 ],
 "metadata": {
  "kernelspec": {
   "display_name": "Python 3",
   "language": "python",
   "name": "python3"
  },
  "language_info": {
   "codemirror_mode": {
    "name": "ipython",
    "version": 3
   },
   "file_extension": ".py",
   "mimetype": "text/x-python",
   "name": "python",
   "nbconvert_exporter": "python",
   "pygments_lexer": "ipython3",
   "version": "3.7.1"
  }
 },
 "nbformat": 4,
 "nbformat_minor": 2
}
