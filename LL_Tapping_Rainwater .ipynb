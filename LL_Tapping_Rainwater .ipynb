{
 "cells": [
  {
   "cell_type": "code",
   "execution_count": 109,
   "metadata": {},
   "outputs": [
    {
     "name": "stdout",
     "output_type": "stream",
     "text": [
      "2\n"
     ]
    }
   ],
   "source": [
    "List= [1,0,2,0,1]\n",
    "start=List[0]\n",
    "end=List[len(List)-1]\n",
    "Ans=[None] * len(List)\n",
    "Left= [None] * len(List)\n",
    "Right = [None] * len(List)\n",
    "Left[0]=0\n",
    "Left[1]=List[0]\n",
    "for i in range(2,len(List)):\n",
    "    for j in range(i):\n",
    "        \n",
    "        if start >= List[j]:\n",
    "            Left[i]= start\n",
    "        else:\n",
    "            Left[i]=List[j]\n",
    "            start=Left[i]\n",
    "        \n",
    "Right[len(List)-1]=0\n",
    "Right[len(List)-2]=List[len(List)-1]\n",
    "for i in range(len(List)-2,-1,-1):\n",
    "    for j in range(len(List)-1,i,-1):\n",
    "        if end>=List[j]:\n",
    "            Right[i]=end\n",
    "        else:\n",
    "            Right[i]=List[j]\n",
    "            end=List[j]\n",
    "Final=0            \n",
    "for i in range(len(List)):\n",
    "    Ans[i]= min(Left[i],Right[i])-List[i]\n",
    "    if Ans[i]>0:\n",
    "        Final+=Ans[i]\n",
    "print(Final)\n",
    "    \n",
    "\n",
    "\n",
    "    \n"
   ]
  },
  {
   "cell_type": "code",
   "execution_count": 5,
   "metadata": {},
   "outputs": [],
   "source": [
    "\n",
    "class Solution:\n",
    "    def trap(self, height):\n",
    "        L,R=0,len(height)-1\n",
    "        L_max,R_max=0,0\n",
    "        Ans=0\n",
    "        while L<R:\n",
    "            L_max=max(L_max,height[L])\n",
    "            R_max=max(R_max,height[R])\n",
    "            if L_max<=R_max:\n",
    "                Ans += L_max-height[L]\n",
    "                L+=1\n",
    "            else:\n",
    "                Ans += R_max-height[R]\n",
    "                R-=1\n",
    "        return Ans"
   ]
  },
  {
   "cell_type": "code",
   "execution_count": 6,
   "metadata": {},
   "outputs": [
    {
     "data": {
      "text/plain": [
       "2"
      ]
     },
     "execution_count": 6,
     "metadata": {},
     "output_type": "execute_result"
    }
   ],
   "source": [
    "List= [1,0,2,0,1]\n",
    "call=Solution()\n",
    "call.trap(List)"
   ]
  },
  {
   "cell_type": "code",
   "execution_count": null,
   "metadata": {},
   "outputs": [],
   "source": []
  }
 ],
 "metadata": {
  "kernelspec": {
   "display_name": "Python 3",
   "language": "python",
   "name": "python3"
  },
  "language_info": {
   "codemirror_mode": {
    "name": "ipython",
    "version": 3
   },
   "file_extension": ".py",
   "mimetype": "text/x-python",
   "name": "python",
   "nbconvert_exporter": "python",
   "pygments_lexer": "ipython3",
   "version": "3.7.1"
  }
 },
 "nbformat": 4,
 "nbformat_minor": 2
}
