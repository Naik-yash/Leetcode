{
 "cells": [
  {
   "cell_type": "code",
   "execution_count": 15,
   "metadata": {},
   "outputs": [],
   "source": [
    "#stack implementation\n",
    "class Stack(object):\n",
    "    def __init__(self):\n",
    "        self.items=[]\n",
    "    def push(self,n):\n",
    "        self.items.append(n)\n",
    "    def pop(self):\n",
    "        return self.items.pop()\n",
    "    def peek(self):\n",
    "        return self.items[len(self.items)-1]\n",
    "    def isempty(self):\n",
    "        return self.items==[]\n",
    "    def Len(self):\n",
    "        return len(self.items)\n",
    "\n",
    "    "
   ]
  },
  {
   "cell_type": "code",
   "execution_count": 97,
   "metadata": {},
   "outputs": [
    {
     "name": "stdout",
     "output_type": "stream",
     "text": [
      "[4, 5, 5, 5, -1]\n"
     ]
    }
   ],
   "source": [
    "#base algo for nect 6 questions\n",
    "\n",
    "#Next largest element aka nearest greatest to right \n",
    "nums=[1,4,3,2,5]\n",
    "output=[]\n",
    "a=Stack()\n",
    "for i in range(len(nums)-1,-1,-1):\n",
    "    if a.isempty():\n",
    "        output.append(-1)\n",
    "        a.push(nums[i])\n",
    "    elif a.peek()>=nums[i]:\n",
    "        output.append(a.peek())\n",
    "        a.push(nums[i])\n",
    "    elif (a.peek()<=nums[i]):\n",
    "        while (not a.isempty()) & (a.peek()<=nums[i]):\n",
    "            a.pop()\n",
    "        if a.isempty():\n",
    "            output.append(0)\n",
    "            a.push(nums[i])\n",
    "        else: \n",
    "            output.append(a.peek())\n",
    "            a.push(nums[i])\n",
    "print(output[::-1])\n",
    "            \n",
    "    \n",
    "        \n",
    "        "
   ]
  },
  {
   "cell_type": "code",
   "execution_count": 98,
   "metadata": {},
   "outputs": [
    {
     "name": "stdout",
     "output_type": "stream",
     "text": [
      "[4, 5, 5, 5, -1]\n"
     ]
    }
   ],
   "source": [
    "#using insert\n",
    "nums=[1,4,3,2,5]\n",
    "output=[]\n",
    "a=Stack()\n",
    "for i in range(len(nums)-1,-1,-1):\n",
    "    if a.isempty():\n",
    "        output.insert(0,-1)\n",
    "        a.push(nums[i])\n",
    "    elif a.peek()>=nums[i]:\n",
    "        output.insert(0,a.peek())\n",
    "        a.push(nums[i])\n",
    "    elif (a.peek()<=nums[i]):\n",
    "        while (not a.isempty()) & (a.peek()<=nums[i]):\n",
    "            a.pop()\n",
    "        if a.isempty():\n",
    "            output.insert(0,0)\n",
    "            a.push(nums[i])\n",
    "        else: \n",
    "            output.insert(0,a.peek())\n",
    "            a.push(nums[i])\n",
    "print(output)"
   ]
  },
  {
   "cell_type": "code",
   "execution_count": 16,
   "metadata": {},
   "outputs": [
    {
     "name": "stdout",
     "output_type": "stream",
     "text": [
      "[-1, -1, 4, 3, -1]\n"
     ]
    }
   ],
   "source": [
    "#nearest greater left\n",
    "nums=[1,4,3,2,5]\n",
    "output=[]\n",
    "a=Stack()\n",
    "for i in range(len(nums)):\n",
    "    if a.isempty():\n",
    "        output.append(- 1)\n",
    "        a.push(nums[i])\n",
    "    elif a.peek()>=nums[i]:\n",
    "        output.append(a.peek())\n",
    "        a.push(nums[i])\n",
    "    else:\n",
    "        while (a.Len()>0):\n",
    "               if (a.peek()<=nums[i]):\n",
    "                    a.pop()\n",
    "        if a.isempty():\n",
    "            output.append(-1)\n",
    "            a.push(nums[i])\n",
    "        else: \n",
    "            output.append(a.peek())\n",
    "            a.push(nums[i])\n",
    "print(output)"
   ]
  },
  {
   "cell_type": "code",
   "execution_count": 106,
   "metadata": {},
   "outputs": [
    {
     "name": "stdout",
     "output_type": "stream",
     "text": [
      "[-1, 1, 1, 1, 2]\n"
     ]
    }
   ],
   "source": [
    "#Nearest smallest to left\n",
    "nums=[1,4,3,2,5]\n",
    "output=[]\n",
    "a=Stack()\n",
    "for i in range(len(nums)):\n",
    "    if a.isempty():\n",
    "        output.append(-1)\n",
    "        a.push(nums[i])\n",
    "    elif a.peek()<=nums[i]:\n",
    "        output.append(a.peek())\n",
    "        a.push(nums[i])\n",
    "    elif (a.peek()>=nums[i]):\n",
    "        while (not a.isempty()) & (a.peek()>=nums[i]):\n",
    "            a.pop()\n",
    "        if a.isempty():\n",
    "            output.append(-1)\n",
    "            a.push(nums[i])\n",
    "        else: \n",
    "            output.append(a.peek())\n",
    "            a.push(nums[i])\n",
    "print(output)\n",
    "    "
   ]
  },
  {
   "cell_type": "code",
   "execution_count": 54,
   "metadata": {},
   "outputs": [
    {
     "name": "stdout",
     "output_type": "stream",
     "text": [
      "[1, 1, 1, 2, 1, 4, 6]\n"
     ]
    }
   ],
   "source": [
    "#stock span problem \n",
    "nums=[100,80,60,70,60,75,85]\n",
    "Final=[]\n",
    "output=[]\n",
    "a=Stack()\n",
    "for i in range(len(nums)):\n",
    "    if a.isempty():\n",
    "        output.append(-1)\n",
    "        a.push([nums[i],i])\n",
    "    elif a.peek()[0]>=nums[i]:\n",
    "        output.append(a.peek()[1])\n",
    "        a.push([nums[i],i])\n",
    "    else:\n",
    "        \n",
    "        while (a.Len()>0):\n",
    "            if (a.peek()[0]<=nums[i]):\n",
    "                a.pop()\n",
    "            else:\n",
    "                break\n",
    "        if a.isempty():\n",
    "            output.append(-1)\n",
    "            a.push([nums[i],i])\n",
    "        else: \n",
    "            output.append(a.peek()[1])\n",
    "            a.push([nums[i],i])\n",
    "\n",
    "for i in range(len(output)):\n",
    "    output[i]=i-output[i]\n",
    "print(output)\n"
   ]
  },
  {
   "cell_type": "code",
   "execution_count": 195,
   "metadata": {},
   "outputs": [],
   "source": [
    "#max area of histogram\n",
    "class Solution:\n",
    "    def largestRectangleArea(self, heights):\n",
    "        if heights==[]:\n",
    "            return 0\n",
    "        elif all(heights[i] == heights[0] for i in range(len(heights))):\n",
    "            return(heights[0]*len(heights))\n",
    "        else:\n",
    "            self.area=[]\n",
    "            self.width=[]\n",
    "            self.low=[]\n",
    "            self.up=[]\n",
    "            self.nsl(heights,self.low)\n",
    "            self.nsr(heights,self.up)\n",
    "            for i in range(len(heights)):\n",
    "\n",
    "                self.width.append(self.up[i]-self.low[i]-1)\n",
    "                self.area.append(self.width[i]*heights[i])\n",
    "            return max(self.area)   \n",
    "    \n",
    "    def nsl(self,heights,low):\n",
    "        a=[]\n",
    "        output=[]\n",
    "        for i in range(len(heights)):\n",
    "            if len(a)==0:\n",
    "                output.append(-1)\n",
    "                a.append([i,heights[i]])\n",
    "            elif a[-1][1]<=heights[i]:\n",
    "                output.append(a[-1][0])\n",
    "                a.append([i,heights[i]])\n",
    "            elif (a[-1][1]>=heights[i]):\n",
    "                while (len(a)>0):\n",
    "                    if (a[-1][1]>=heights[i]):\n",
    "                        a.pop()\n",
    "                    else:\n",
    "                        break\n",
    "                if len(a)==0:\n",
    "                    output.append(-1)\n",
    "                    a.append([i,heights[i]])\n",
    "                else: \n",
    "                    output.append(a[-1][0])\n",
    "                    a.append([i,heights[i]])\n",
    "        self.low=output\n",
    "        return self.low\n",
    "\n",
    "    \n",
    "    def nsr(self,heights,up):\n",
    "        a=[]\n",
    "        output=[]\n",
    "        for i in range(len(heights)-1,-1,-1):\n",
    "            if len(a)==0:\n",
    "                output.append(len(heights))\n",
    "                a.append([i,heights[i]])\n",
    "            elif a[-1][1]<heights[i]:\n",
    "                output.insert(0,a[-1][0])\n",
    "                a.append([i,heights[i]])\n",
    "            elif (a[-1][1]>=heights[i]):\n",
    "                while (len(a)>0):\n",
    "                    if (a[-1][1]>=heights[i]):\n",
    "                        a.pop()\n",
    "                    else:\n",
    "                        break\n",
    "                if len(a)==0:\n",
    "                    output.insert(0,len(heights))\n",
    "                    a.append([i,heights[i]])\n",
    "                else: \n",
    "                    output.insert(0,a[-1][0])\n",
    "                    a.append([i,heights[i]])\n",
    "        self.up=output\n",
    "        return self.up"
   ]
  },
  {
   "cell_type": "code",
   "execution_count": 196,
   "metadata": {},
   "outputs": [
    {
     "name": "stdout",
     "output_type": "stream",
     "text": [
      "[-1, 0] [2, 2]\n"
     ]
    }
   ],
   "source": [
    "call=Solution()\n",
    "call.largestRectangleArea([2,4])"
   ]
  },
  {
   "cell_type": "code",
   "execution_count": 192,
   "metadata": {},
   "outputs": [],
   "source": [
    "out=[1,1,1]\n",
    "result = all(out[i] == out[0] for i in range(len(out)))"
   ]
  },
  {
   "cell_type": "code",
   "execution_count": 193,
   "metadata": {},
   "outputs": [
    {
     "data": {
      "text/plain": [
       "True"
      ]
     },
     "execution_count": 193,
     "metadata": {},
     "output_type": "execute_result"
    }
   ],
   "source": [
    "result"
   ]
  },
  {
   "cell_type": "code",
   "execution_count": 2,
   "metadata": {},
   "outputs": [
    {
     "name": "stdout",
     "output_type": "stream",
     "text": [
      "10\n"
     ]
    }
   ],
   "source": [
    "#max area of rect \n",
    "h=[2,1,5,6,2,3]\n",
    "stk=[]\n",
    "maximum=0\n",
    "for index,num in enumerate(h):\n",
    "    start=index \n",
    "    while stk and stk[-1][1] > num:\n",
    "        i,he=stk.pop()\n",
    "        maximum = max(maximum, he * (index-i))\n",
    "        start=i\n",
    "    stk.append([start,num])\n",
    "    \n",
    "for i,t in stk:\n",
    "    maximum = max(maximum,t*(len(h)-i) )\n",
    "print(maximum)\n",
    "    "
   ]
  },
  {
   "cell_type": "code",
   "execution_count": null,
   "metadata": {},
   "outputs": [],
   "source": []
  }
 ],
 "metadata": {
  "kernelspec": {
   "display_name": "Python 3",
   "language": "python",
   "name": "python3"
  },
  "language_info": {
   "codemirror_mode": {
    "name": "ipython",
    "version": 3
   },
   "file_extension": ".py",
   "mimetype": "text/x-python",
   "name": "python",
   "nbconvert_exporter": "python",
   "pygments_lexer": "ipython3",
   "version": "3.7.1"
  }
 },
 "nbformat": 4,
 "nbformat_minor": 2
}
