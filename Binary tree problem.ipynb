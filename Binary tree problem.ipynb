{
 "cells": [
  {
   "cell_type": "code",
   "execution_count": 11,
   "metadata": {},
   "outputs": [],
   "source": [
    "#BFS\n",
    "# Definition for a binary tree node.\n",
    "# class TreeNode:\n",
    "#     def __init__(self, val=0, left=None, right=None):\n",
    "#         self.val = val\n",
    "#         self.left = left\n",
    "#         self.right = right\n",
    "\n",
    "class Solution:\n",
    "    def levelOrder(self, root: TreeNode) -> List[List[int]]:\n",
    "        res=[]\n",
    "        \n",
    "        if root is None:\n",
    "            return res\n",
    "        else:\n",
    "            q=[root]\n",
    "            size=1\n",
    "            while q:\n",
    "                ll=[] \n",
    "#                 nodes per level\n",
    "                while size!=0:\n",
    "                    node=q.pop(0)\n",
    "                    if node.left:\n",
    "                        q.append(node.left)\n",
    "                    if node.right:\n",
    "                        q.append(node.right)\n",
    "                    ll.append(node.val)\n",
    "                    size-=1\n",
    "                res.append(ll)\n",
    "                size=len(q)\n",
    "            return res"
   ]
  },
  {
   "cell_type": "code",
   "execution_count": 12,
   "metadata": {},
   "outputs": [],
   "source": [
    "#symmetric \n",
    "\n",
    "class Solution:\n",
    "    def isSymmetric(self, root: TreeNode) -> bool:\n",
    "        if root is None:\n",
    "            return True \n",
    "        else:\n",
    "            return self.ismirror(root.left,root.right)\n",
    "        \n",
    "    def ismirror(self,left,right):\n",
    "        if left and right:\n",
    "            return left.val==right.val and self.ismirror(left.left,right.right) and self.ismirror(left.right,right.left)\n",
    "        return left==right\n",
    "    \n"
   ]
  },
  {
   "cell_type": "code",
   "execution_count": 6,
   "metadata": {},
   "outputs": [
    {
     "data": {
      "text/plain": [
       "1"
      ]
     },
     "execution_count": 6,
     "metadata": {},
     "output_type": "execute_result"
    }
   ],
   "source": [
    "res=[]\n",
    "q=[]\n",
    "\n",
    "# if root is None:\n",
    "#     return None\n",
    "q.append(1)\n",
    "# while len(q)>0:\n",
    "#     a=[]\n",
    "#     len=len(q)\n",
    "#     while len !=0:\n",
    "#     current= \n",
    "len(q)"
   ]
  },
  {
   "cell_type": "code",
   "execution_count": 8,
   "metadata": {},
   "outputs": [],
   "source": [
    "res.append(1)\n",
    "res.append(2)"
   ]
  },
  {
   "cell_type": "code",
   "execution_count": 9,
   "metadata": {},
   "outputs": [
    {
     "data": {
      "text/plain": [
       "[1, [1, 2]]"
      ]
     },
     "execution_count": 9,
     "metadata": {},
     "output_type": "execute_result"
    }
   ],
   "source": [
    "q.append(res)\n",
    "q"
   ]
  },
  {
   "cell_type": "code",
   "execution_count": null,
   "metadata": {},
   "outputs": [],
   "source": []
  }
 ],
 "metadata": {
  "kernelspec": {
   "display_name": "Python 3",
   "language": "python",
   "name": "python3"
  },
  "language_info": {
   "codemirror_mode": {
    "name": "ipython",
    "version": 3
   },
   "file_extension": ".py",
   "mimetype": "text/x-python",
   "name": "python",
   "nbconvert_exporter": "python",
   "pygments_lexer": "ipython3",
   "version": "3.7.1"
  }
 },
 "nbformat": 4,
 "nbformat_minor": 2
}
