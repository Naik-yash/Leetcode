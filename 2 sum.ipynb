{
 "cells": [
  {
   "cell_type": "code",
   "execution_count": 8,
   "metadata": {},
   "outputs": [
    {
     "name": "stdout",
     "output_type": "stream",
     "text": [
      "[2, 1]\n"
     ]
    }
   ],
   "source": [
    "nums=[1,2,3,5]\n",
    "target=4\n",
    "prevmap={}\n",
    "for i,n in enumerate(nums):\n",
    "    diff=target-n\n",
    "    if diff in prevmap:\n",
    "        print ([i,prevmap[diff]])\n",
    "        break\n",
    "    prevmap[n]=1\n"
   ]
  },
  {
   "cell_type": "code",
   "execution_count": 13,
   "metadata": {},
   "outputs": [
    {
     "name": "stdout",
     "output_type": "stream",
     "text": [
      "0 1\n",
      "3\n",
      "1 2\n",
      "2\n",
      "2 3\n",
      "1\n",
      "[2, 0]\n"
     ]
    }
   ],
   "source": [
    "nums=[1,2,3,5]\n",
    "target=4\n",
    "prevmap={}\n",
    "for i,n in enumerate(nums):\n",
    "    print(i,n)\n",
    "    diff=target-n\n",
    "    print(diff)\n",
    "    if diff in prevmap:\n",
    "        print ([i,prevmap[diff]])\n",
    "        break\n",
    "    prevmap[n]=i"
   ]
  },
  {
   "cell_type": "code",
   "execution_count": 14,
   "metadata": {},
   "outputs": [
    {
     "data": {
      "text/plain": [
       "{1: 0, 2: 1}"
      ]
     },
     "execution_count": 14,
     "metadata": {},
     "output_type": "execute_result"
    }
   ],
   "source": [
    "prevmap"
   ]
  },
  {
   "cell_type": "code",
   "execution_count": null,
   "metadata": {},
   "outputs": [],
   "source": []
  }
 ],
 "metadata": {
  "kernelspec": {
   "display_name": "Python 3",
   "language": "python",
   "name": "python3"
  },
  "language_info": {
   "codemirror_mode": {
    "name": "ipython",
    "version": 3
   },
   "file_extension": ".py",
   "mimetype": "text/x-python",
   "name": "python",
   "nbconvert_exporter": "python",
   "pygments_lexer": "ipython3",
   "version": "3.7.1"
  }
 },
 "nbformat": 4,
 "nbformat_minor": 2
}
