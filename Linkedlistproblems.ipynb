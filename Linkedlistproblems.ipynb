{
 "cells": [
  {
   "cell_type": "code",
   "execution_count": null,
   "metadata": {},
   "outputs": [],
   "source": [
    "class Node(object):\n",
    "       def __init__(self,value):\n",
    "            self.value = value\n",
    "            self.nextnode = None"
   ]
  },
  {
   "cell_type": "code",
   "execution_count": null,
   "metadata": {},
   "outputs": [],
   "source": [
    "a= Node(1)\n",
    "b=Node (2)\n",
    "c= Node (3)\n"
   ]
  },
  {
   "cell_type": "code",
   "execution_count": null,
   "metadata": {},
   "outputs": [],
   "source": [
    "a.nextnode =b\n",
    "b.nextnode=c"
   ]
  },
  {
   "cell_type": "code",
   "execution_count": null,
   "metadata": {},
   "outputs": [],
   "source": [
    "a.value"
   ]
  },
  {
   "cell_type": "code",
   "execution_count": null,
   "metadata": {},
   "outputs": [],
   "source": [
    "a.nextnode.value\n"
   ]
  },
  {
   "cell_type": "code",
   "execution_count": null,
   "metadata": {},
   "outputs": [],
   "source": [
    "a.nextnode"
   ]
  },
  {
   "cell_type": "code",
   "execution_count": null,
   "metadata": {},
   "outputs": [],
   "source": [
    "class DLL(object):\n",
    "    def __init__(self,value):\n",
    "        self.value = value\n",
    "        self.nextnode = None\n",
    "        self.prevnode = None"
   ]
  },
  {
   "cell_type": "code",
   "execution_count": 8,
   "metadata": {},
   "outputs": [],
   "source": [
    "a=DLL(1)\n",
    "b=DLL(2)\n",
    "c=DLL(3)"
   ]
  },
  {
   "cell_type": "code",
   "execution_count": 9,
   "metadata": {},
   "outputs": [],
   "source": [
    "a.nextnode=b\n",
    "b.prevnode=a\n",
    "b.nextnode=c\n",
    "c.prevnode=b"
   ]
  },
  {
   "cell_type": "code",
   "execution_count": 10,
   "metadata": {},
   "outputs": [],
   "source": [
    "#  sll cyclic check problem\n",
    "def cycle_check(node):\n",
    "    marker1=node\n",
    "    marker2=node\n",
    "    \n",
    "    while marker2 != None and marker2.nextnode != None:\n",
    "        marker1 = marker1.nextnode\n",
    "        marker2=marker2.nextnode.nextnode\n",
    "\n",
    "        if marker2==marker1:\n",
    "            return True\n",
    "    return False\n",
    "\n",
    "    "
   ]
  },
  {
   "cell_type": "code",
   "execution_count": 11,
   "metadata": {},
   "outputs": [],
   "source": [
    "#Link list reversal\n",
    "def Reverse(head):\n",
    "    current  = head\n",
    "    prev= None\n",
    "    next= None\n",
    "    \n",
    "    while current:\n",
    "        next=current.nextnode\n",
    "        current.nextnode=prev\n",
    "        prev=current \n",
    "        current=next\n",
    "        \n",
    "    return prev\n",
    "        "
   ]
  },
  {
   "cell_type": "code",
   "execution_count": 12,
   "metadata": {},
   "outputs": [],
   "source": [
    "a= Node(1)\n",
    "b=Node (2)\n",
    "c= Node (3)\n",
    "a.nextnode =b\n",
    "b.nextnode=c\n"
   ]
  },
  {
   "cell_type": "code",
   "execution_count": 13,
   "metadata": {},
   "outputs": [
    {
     "data": {
      "text/plain": [
       "<__main__.Node at 0x10a868dd8>"
      ]
     },
     "execution_count": 13,
     "metadata": {},
     "output_type": "execute_result"
    }
   ],
   "source": [
    "Reverse(a)\n"
   ]
  },
  {
   "cell_type": "code",
   "execution_count": 27,
   "metadata": {},
   "outputs": [
    {
     "name": "stdout",
     "output_type": "stream",
     "text": [
      "0\n",
      "1\n",
      "2\n",
      "3\n",
      "4\n"
     ]
    }
   ],
   "source": [
    "a.nextnode\n",
    "# b.nextnode.value\n",
    "for i in range (5):\n",
    "    print(i)"
   ]
  },
  {
   "cell_type": "code",
   "execution_count": null,
   "metadata": {},
   "outputs": [],
   "source": [
    "#nth to last node\n",
    "def n2last(n,head):\n",
    "    left_pointer =head\n",
    "    right_pointer=head\n",
    "    for i in range(n-1):\n",
    "        if not right_pointer.nextnode:\n",
    "            raise LookupError('Error:n is larger than the ll')\n",
    "            \n",
    "            right_pointer = right_pointer.nextnode\n",
    "            \n",
    "    while right_pointer.nextnode:\n",
    "        left_pointer=left_pointer.nextnode\n",
    "        right_pointer=right_pointer.nextnode\n",
    "    return left_pointer\n",
    "\n",
    "\n",
    "\n",
    "                "
   ]
  },
  {
   "cell_type": "code",
   "execution_count": null,
   "metadata": {},
   "outputs": [],
   "source": [
    "# Definition for singly-linked list.\n",
    "# class ListNode:\n",
    "#     def __init__(self, val=0, next=None):\n",
    "#         self.val = val\n",
    "#         self.next = next\n",
    "class Solution:\n",
    "    def removeNthFromEnd(self, head: ListNode, n: int) -> ListNode:\n",
    "        slow=head\n",
    "        fast=head\n",
    "        for i in range (n):\n",
    "            fast=fast.next\n",
    "        if fast is None:\n",
    "            return head.next\n",
    "        while fast.next:\n",
    "            slow=slow.next\n",
    "            fast=fast.next\n",
    "        slow.next=slow.next.next\n",
    "        return head\n",
    "        \n",
    "            \n",
    "        "
   ]
  },
  {
   "cell_type": "code",
   "execution_count": 29,
   "metadata": {},
   "outputs": [
    {
     "ename": "IndentationError",
     "evalue": "expected an indented block (<ipython-input-29-2613af7f6d45>, line 22)",
     "output_type": "error",
     "traceback": [
      "\u001b[0;36m  File \u001b[0;32m\"<ipython-input-29-2613af7f6d45>\"\u001b[0;36m, line \u001b[0;32m22\u001b[0m\n\u001b[0;31m    class Solution:\u001b[0m\n\u001b[0m        ^\u001b[0m\n\u001b[0;31mIndentationError\u001b[0m\u001b[0;31m:\u001b[0m expected an indented block\n"
     ]
    }
   ],
   "source": [
    "# merge k sorted lists \n",
    "class Solution:\n",
    "    def mergeKLists(self, lists: List[ListNode]) -> ListNode:\n",
    "        self.Node=[]\n",
    "        dummy=head=ListNode(0)\n",
    "        for l in lists:\n",
    "            while l:\n",
    "                self.Node.append(l.val)\n",
    "                l=l.next\n",
    "        for x in sorted(self.Node):\n",
    "            dummy.next=ListNode(x)\n",
    "            dummy=dummy.next\n",
    "        return head.next\n",
    " \n",
    "            \n",
    "            \n",
    "        \n",
    "\n",
    "\n"
   ]
  },
  {
   "cell_type": "code",
   "execution_count": 25,
   "metadata": {},
   "outputs": [
    {
     "name": "stdout",
     "output_type": "stream",
     "text": [
      "[[<__main__.ListNode object at 0x105fe1438>], [<__main__.ListNode object at 0x105fe1e48>]]\n",
      "[[<__main__.ListNode object at 0x105fe1438>], [<__main__.ListNode object at 0x105fe1e48>]]\n"
     ]
    }
   ],
   "source": [
    "#palindrome \n",
    "class Solution:\n",
    "    def isPalindrome(self, head: ListNode) -> bool:\n",
    "        if head is None:\n",
    "            return True\n",
    "        \n",
    "        stk = list()\n",
    "        \n",
    "        slow = head\n",
    "        \n",
    "        while head:\n",
    "            stk.append(head)\n",
    "            head = head.next\n",
    "            \n",
    "        while stk:\n",
    "            if slow.val != stk.pop().val:\n",
    "                return False\n",
    "            slow = slow.next\n",
    "        \n",
    "        return True"
   ]
  },
  {
   "cell_type": "code",
   "execution_count": 9,
   "metadata": {},
   "outputs": [],
   "source": [
    "import git "
   ]
  },
  {
   "cell_type": "code",
   "execution_count": 11,
   "metadata": {},
   "outputs": [
    {
     "ename": "AttributeError",
     "evalue": "module 'git' has no attribute 'push'",
     "output_type": "error",
     "traceback": [
      "\u001b[0;31m---------------------------------------------------------------------------\u001b[0m",
      "\u001b[0;31mAttributeError\u001b[0m                            Traceback (most recent call last)",
      "\u001b[0;32m<ipython-input-11-eeae4703223a>\u001b[0m in \u001b[0;36m<module>\u001b[0;34m\u001b[0m\n\u001b[0;32m----> 1\u001b[0;31m \u001b[0mgit\u001b[0m\u001b[0;34m.\u001b[0m\u001b[0mpush\u001b[0m \u001b[0;34m(\u001b[0m\u001b[0;34m\"https://github.com/Naik-yash/Leetcode.git\"\u001b[0m\u001b[0;34m)\u001b[0m\u001b[0;34m\u001b[0m\u001b[0;34m\u001b[0m\u001b[0m\n\u001b[0m",
      "\u001b[0;31mAttributeError\u001b[0m: module 'git' has no attribute 'push'"
     ]
    }
   ],
   "source": [
    "git.push (\"https://github.com/Naik-yash/Leetcode.git\")"
   ]
  },
  {
   "cell_type": "code",
   "execution_count": null,
   "metadata": {},
   "outputs": [],
   "source": []
  }
 ],
 "metadata": {
  "kernelspec": {
   "display_name": "Python 3",
   "language": "python",
   "name": "python3"
  },
  "language_info": {
   "codemirror_mode": {
    "name": "ipython",
    "version": 3
   },
   "file_extension": ".py",
   "mimetype": "text/x-python",
   "name": "python",
   "nbconvert_exporter": "python",
   "pygments_lexer": "ipython3",
   "version": "3.7.1"
  }
 },
 "nbformat": 4,
 "nbformat_minor": 2
}
